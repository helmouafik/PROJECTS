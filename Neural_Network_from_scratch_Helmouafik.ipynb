{
  "nbformat": 4,
  "nbformat_minor": 0,
  "metadata": {
    "colab": {
      "provenance": [],
      "collapsed_sections": []
    },
    "kernelspec": {
      "name": "python3",
      "display_name": "Python 3"
    },
    "language_info": {
      "name": "python"
    }
  },
  "cells": [
    {
      "cell_type": "code",
      "execution_count": null,
      "metadata": {
        "colab": {
          "base_uri": "https://localhost:8080/"
        },
        "id": "7kYVxHiCPDtH",
        "outputId": "c7eac75f-4903-4b50-89a5-52963ab18619"
      },
      "outputs": [
        {
          "output_type": "stream",
          "name": "stdout",
          "text": [
            "Looking in indexes: https://pypi.org/simple, https://us-python.pkg.dev/colab-wheels/public/simple/\n",
            "Requirement already satisfied: numpy in /usr/local/lib/python3.7/dist-packages (1.21.6)\n"
          ]
        }
      ],
      "source": [
        "!pip install numpy"
      ]
    },
    {
      "cell_type": "code",
      "source": [
        "import numpy as np\n",
        "\n",
        "def sigmoid(z):\n",
        "  return 1/(1 + np.exp(-z))"
      ],
      "metadata": {
        "id": "keF02kfDQeQL"
      },
      "execution_count": null,
      "outputs": []
    },
    {
      "cell_type": "code",
      "source": [
        "def initialize_parameters(n_x, n_h, n_y):\n",
        "  W1 = np.random.randn(n_h, n_x)\n",
        "  b1 = np.zeros((n_h, 1))\n",
        "  W2 = np.random.randn(n_y, n_h)\n",
        "  b2 = np.zeros((n_y, 1))\n",
        "\n",
        "  parameters = {\n",
        "    \"W1\": W1,\n",
        "    \"b1\" : b1,\n",
        "    \"W2\": W2,\n",
        "    \"b2\" : b2\n",
        "  }\n",
        "  return parameters"
      ],
      "metadata": {
        "id": "-72Yi14GRQKH"
      },
      "execution_count": null,
      "outputs": []
    },
    {
      "cell_type": "code",
      "source": [
        "def forward_prop(X, parameters):\n",
        "  W1 = parameters[\"W1\"]\n",
        "  b1 = parameters[\"b1\"]\n",
        "  W2 = parameters[\"W2\"]\n",
        "  b2 = parameters[\"b2\"]\n",
        "\n",
        "  Z1 = np.dot(W1, X) + b1\n",
        "  A1 = np.tanh(Z1)\n",
        "  Z2 = np.dot(W2, A1) + b2\n",
        "  A2 = sigmoid(Z2)\n",
        "\n",
        "  cache = {\n",
        "    \"A1\": A1,\n",
        "    \"A2\": A2\n",
        "  }\n",
        "  return A2, cache"
      ],
      "metadata": {
        "id": "BRBmRkT7Rivv"
      },
      "execution_count": null,
      "outputs": []
    },
    {
      "cell_type": "code",
      "source": [
        "def calculate_cost(A2, Y):\n",
        "  cost = -np.sum(np.multiply(Y, np.log(A2)) +  np.multiply(1-Y, np.log(1-A2)))/m\n",
        "  cost = np.squeeze(cost)\n",
        "\n",
        "  return cost"
      ],
      "metadata": {
        "id": "CULC7gGiRsQ8"
      },
      "execution_count": null,
      "outputs": []
    },
    {
      "cell_type": "code",
      "source": [
        "def backward_prop(X, Y, cache, parameters):\n",
        "  A1 = cache[\"A1\"]\n",
        "  A2 = cache[\"A2\"]\n",
        "\n",
        "  W2 = parameters[\"W2\"]\n",
        "\n",
        "  dZ2 = A2 - Y\n",
        "  dW2 = np.dot(dZ2, A1.T)/m\n",
        "  db2 = np.sum(dZ2, axis=1, keepdims=True)/m\n",
        "  dZ1 = np.multiply(np.dot(W2.T, dZ2), 1-np.power(A1, 2))\n",
        "  dW1 = np.dot(dZ1, X.T)/m\n",
        "  db1 = np.sum(dZ1, axis=1, keepdims=True)/m\n",
        "\n",
        "  grads = {\n",
        "    \"dW1\": dW1,\n",
        "    \"db1\": db1,\n",
        "    \"dW2\": dW2,\n",
        "    \"db2\": db2\n",
        "  }\n",
        "\n",
        "  return grads"
      ],
      "metadata": {
        "id": "e3d6RcQaSLsP"
      },
      "execution_count": null,
      "outputs": []
    },
    {
      "cell_type": "code",
      "source": [
        "def update_parameters(parameters, grads, learning_rate):\n",
        "  W1 = parameters[\"W1\"]\n",
        "  b1 = parameters[\"b1\"]\n",
        "  W2 = parameters[\"W2\"]\n",
        "  b2 = parameters[\"b2\"]\n",
        "\n",
        "  dW1 = grads[\"dW1\"]\n",
        "  db1 = grads[\"db1\"]\n",
        "  dW2 = grads[\"dW2\"]\n",
        "  db2 = grads[\"db2\"]\n",
        "\n",
        "  W1 = W1 - learning_rate*dW1\n",
        "  b1 = b1 - learning_rate*db1\n",
        "  W2 = W2 - learning_rate*dW2\n",
        "  b2 = b2 - learning_rate*db2\n",
        "  \n",
        "  new_parameters = {\n",
        "    \"W1\": W1,\n",
        "    \"W2\": W2,\n",
        "    \"b1\" : b1,\n",
        "    \"b2\" : b2\n",
        "  }\n",
        "\n",
        "  return new_parameters"
      ],
      "metadata": {
        "id": "t1ziI97uSTKO"
      },
      "execution_count": null,
      "outputs": []
    },
    {
      "cell_type": "code",
      "source": [
        "def model(X, Y, n_x, n_h, n_y, num_of_iters, learning_rate):\n",
        "  parameters = initialize_parameters(n_x, n_h, n_y)\n",
        "\n",
        "  for i in range(0, num_of_iters+1):\n",
        "    a2, cache = forward_prop(X, parameters)\n",
        "\n",
        "    cost = calculate_cost(a2, Y)\n",
        "\n",
        "    grads = backward_prop(X, Y, cache, parameters)\n",
        "\n",
        "    parameters = update_parameters(parameters, grads, learning_rate)\n",
        "\n",
        "    if(i%100 == 0):\n",
        "      print('Cost after iteration# {:d}: {:f}'.format(i, cost))\n",
        "\n",
        "  return parameters"
      ],
      "metadata": {
        "id": "t2mCcMW4SZJX"
      },
      "execution_count": null,
      "outputs": []
    },
    {
      "cell_type": "code",
      "source": [
        "def predict(X, parameters):\n",
        "  a2, cache = forward_prop(X, parameters)\n",
        "  yhat = a2\n",
        "  yhat = np.squeeze(yhat)\n",
        "  if(yhat >= 0.5):\n",
        "    y_predict = 1\n",
        "  else:\n",
        "    y_predict = 0\n",
        "\n",
        "  return y_predict"
      ],
      "metadata": {
        "id": "ahVEF6dSSefm"
      },
      "execution_count": null,
      "outputs": []
    },
    {
      "cell_type": "code",
      "source": [
        "np.random.seed(2)\n",
        "\n",
        "# The 4 training examples by columns\n",
        "X = np.array([[0, 0, 1, 1], [0, 1, 0, 1]])\n",
        "\n",
        "# The outputs of the XOR for every example in X\n",
        "Y = np.array([[0, 1, 1, 0]])\n",
        "\n",
        "# No. of training examples\n",
        "m = X.shape[1]\n",
        "# Set the hyperparameters\n",
        "n_x = 2     #No. of neurons in first layer\n",
        "n_h = 2     #No. of neurons in hidden layer\n",
        "n_y = 1     #No. of neurons in output layer\n",
        "num_of_iters = 1000\n",
        "learning_rate = 0.3"
      ],
      "metadata": {
        "id": "hHBON_b-SrKg"
      },
      "execution_count": null,
      "outputs": []
    },
    {
      "cell_type": "code",
      "source": [
        "trained_parameters = model(X, Y, n_x, n_h, n_y, num_of_iters, learning_rate)"
      ],
      "metadata": {
        "colab": {
          "base_uri": "https://localhost:8080/"
        },
        "id": "-gMmJzIrSvfw",
        "outputId": "4e91fc93-aa19-4035-a004-89a768f8f2d2"
      },
      "execution_count": null,
      "outputs": [
        {
          "output_type": "stream",
          "name": "stdout",
          "text": [
            "Cost after iteration# 0: 0.856267\n",
            "Cost after iteration# 100: 0.347426\n",
            "Cost after iteration# 200: 0.101195\n",
            "Cost after iteration# 300: 0.053631\n",
            "Cost after iteration# 400: 0.036031\n",
            "Cost after iteration# 500: 0.027002\n",
            "Cost after iteration# 600: 0.021543\n",
            "Cost after iteration# 700: 0.017896\n",
            "Cost after iteration# 800: 0.015293\n",
            "Cost after iteration# 900: 0.013344\n",
            "Cost after iteration# 1000: 0.011831\n"
          ]
        }
      ]
    },
    {
      "cell_type": "code",
      "source": [
        "X_test = np.array([[0], [1]])\n",
        "y_predict = predict(X_test, trained_parameters)\n",
        "print('Neural Network prediction for example ({:d}, {:d}) is {:d}'.format(\n",
        "    X_test[0][0], X_test[1][0], y_predict))"
      ],
      "metadata": {
        "colab": {
          "base_uri": "https://localhost:8080/"
        },
        "id": "CLnQdAOgS2Ye",
        "outputId": "a36ff905-7a9f-4e78-c593-c45cb4bc50e2"
      },
      "execution_count": null,
      "outputs": [
        {
          "output_type": "stream",
          "name": "stdout",
          "text": [
            "Neural Network prediction for example (0, 1) is 1\n"
          ]
        }
      ]
    },
    {
      "cell_type": "code",
      "source": [
        "X_test = np.array([[1], [1]])\n",
        "y_predict = predict(X_test, trained_parameters)\n",
        "print('Neural Network prediction for example ({:d}, {:d}) is {:d}'.format(\n",
        "    X_test[0][0], X_test[1][0], y_predict))"
      ],
      "metadata": {
        "colab": {
          "base_uri": "https://localhost:8080/"
        },
        "id": "vpti-0JGTT2A",
        "outputId": "95e4c609-173d-4a13-b758-960feda2de8f"
      },
      "execution_count": null,
      "outputs": [
        {
          "output_type": "stream",
          "name": "stdout",
          "text": [
            "Neural Network prediction for example (1, 1) is 0\n"
          ]
        }
      ]
    }
  ]
}